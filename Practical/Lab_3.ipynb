{
 "cells": [
  {
   "cell_type": "code",
   "execution_count": 2,
   "metadata": {},
   "outputs": [],
   "source": [
    "import pandas as pd\n",
    "import numpy as np\n",
    "import matplotlib.pyplot as plt\n",
    "from sklearn.model_selection import train_test_split\n",
    "from sklearn.preprocessing import LabelEncoder"
   ]
  },
  {
   "cell_type": "code",
   "execution_count": 1,
   "metadata": {},
   "outputs": [],
   "source": [
    "from sklearn.preprocessing import StandardScaler\n",
    "from sklearn.naive_bayes import GaussianNB\n",
    "from sklearn.metrics import accuracy_score"
   ]
  },
  {
   "cell_type": "code",
   "execution_count": 105,
   "metadata": {},
   "outputs": [],
   "source": [
    "label_encoder = LabelEncoder()\n",
    "file_path = r\"D:\\Coding_Dev\\College\\SEM_6\\ML\\Assets\\breast_cancer_wisconsin_original\\breast-cancer-wisconsin.data\"\n",
    "columns = [\"Feature0\",\"Feature1\", \"Feature2\", \"Feature3\", \"Feature4\", \"Feature5\", \"Feature6\", \"Feature7\", \"Feature8\", \"Feature9\", \"Class_Label\"]\n",
    "data = pd.read_csv(file_path, header=None, sep=\",\", names=columns)\n",
    "data.drop(\"Feature0\", axis=1, inplace=True)\n",
    "data.replace('?', pd.NA, inplace=True)\n",
    "data.dropna(inplace=True)"
   ]
  },
  {
   "cell_type": "code",
   "execution_count": 133,
   "metadata": {},
   "outputs": [],
   "source": [
    "features = data.drop(\"Class_Label\", axis=1)\n",
    "labels = data[\"Class_Label\"]\n",
    "\n",
    "X_train, X_test, y_train, y_test = train_test_split(features, labels, test_size=0.3, random_state=42)"
   ]
  },
  {
   "cell_type": "code",
   "execution_count": 134,
   "metadata": {},
   "outputs": [],
   "source": [
    "def calculate_conditional_probs(data, feature, class_labels):\n",
    "    conditional_probs = {}\n",
    "    \n",
    "    for label in class_labels:\n",
    "        subset = data[y_train == label]\n",
    "        hist, _ = np.histogram(subset[feature].astype(float), bins=10, density=True)\n",
    "        conditional_probs[label] = hist / hist.sum()\n",
    "        \n",
    "    return conditional_probs\n",
    "\n",
    "class_labels = y_train.unique()\n",
    "conditional_probs = {}\n",
    "\n",
    "for feature in X_train.columns:\n",
    "    conditional_probs[feature] = calculate_conditional_probs(X_train, feature, class_labels)\n"
   ]
  },
  {
   "cell_type": "code",
   "execution_count": 135,
   "metadata": {},
   "outputs": [],
   "source": [
    "prior_probs = y_train.value_counts(normalize=True).to_dict()"
   ]
  },
  {
   "cell_type": "code",
   "execution_count": 136,
   "metadata": {},
   "outputs": [
    {
     "name": "stdout",
     "output_type": "stream",
     "text": [
      "Accuracy: 0.9658536585365853\n"
     ]
    }
   ],
   "source": [
    "scaler = StandardScaler()\n",
    "X_train_scaled = scaler.fit_transform(X_train)\n",
    "X_test_scaled = scaler.transform(X_test)\n",
    "\n",
    "nb_classifier = GaussianNB()\n",
    "nb_classifier.fit(X_train_scaled, y_train)\n",
    "\n",
    "\n",
    "predictions = nb_classifier.predict(X_test_scaled)\n",
    "accuracy = accuracy_score(y_test, predictions)\n",
    "print(\"Accuracy:\", accuracy)"
   ]
  },
  {
   "cell_type": "code",
   "execution_count": 137,
   "metadata": {},
   "outputs": [
    {
     "name": "stderr",
     "output_type": "stream",
     "text": [
      "C:\\Users\\barar\\AppData\\Local\\Temp\\ipykernel_22544\\3016662624.py:9: RuntimeWarning: divide by zero encountered in log\n",
      "  score += np.log(conditional_probs[feature][label][bin_index])\n"
     ]
    }
   ],
   "source": [
    "def classify_sample(sample, conditional_probs, prior_probs):\n",
    "    class_scores = {}\n",
    "    \n",
    "    for label in class_labels:\n",
    "        score = np.log(prior_probs[label])\n",
    "        \n",
    "        for feature, value in sample.items():\n",
    "            bin_index = np.searchsorted(np.linspace(1, 11, num=11), value) - 1\n",
    "            score += np.log(conditional_probs[feature][label][bin_index])\n",
    "            \n",
    "        class_scores[label] = score\n",
    "        \n",
    "    return max(class_scores, key=class_scores.get)\n",
    "\n",
    "predictions = X_test.apply(lambda sample: classify_sample(sample, conditional_probs, prior_probs), axis=1)\n"
   ]
  },
  {
   "cell_type": "code",
   "execution_count": 138,
   "metadata": {},
   "outputs": [
    {
     "name": "stdout",
     "output_type": "stream",
     "text": [
      "Accuracy: 0.9658536585365853\n"
     ]
    }
   ],
   "source": [
    "mean_accuracy = (predictions == y_test).mean()\n",
    "print(\"Accuracy:\", accuracy)"
   ]
  },
  {
   "cell_type": "code",
   "execution_count": null,
   "metadata": {},
   "outputs": [],
   "source": []
  },
  {
   "cell_type": "code",
   "execution_count": null,
   "metadata": {},
   "outputs": [],
   "source": []
  }
 ],
 "metadata": {
  "kernelspec": {
   "display_name": "Conda",
   "language": "python",
   "name": "python3"
  },
  "language_info": {
   "codemirror_mode": {
    "name": "ipython",
    "version": 3
   },
   "file_extension": ".py",
   "mimetype": "text/x-python",
   "name": "python",
   "nbconvert_exporter": "python",
   "pygments_lexer": "ipython3",
   "version": "3.9.15"
  },
  "orig_nbformat": 4
 },
 "nbformat": 4,
 "nbformat_minor": 2
}
