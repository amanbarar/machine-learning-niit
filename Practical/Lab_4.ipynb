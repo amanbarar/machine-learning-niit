{
 "cells": [
  {
   "cell_type": "code",
   "execution_count": 2,
   "metadata": {},
   "outputs": [],
   "source": [
    "import pandas as pd\n",
    "import numpy as np\n",
    "import matplotlib.pyplot as plt\n",
    "from sklearn.model_selection import train_test_split\n",
    "from sklearn.preprocessing import LabelEncoder\n",
    "from sklearn.preprocessing import StandardScaler"
   ]
  },
  {
   "cell_type": "code",
   "execution_count": 3,
   "metadata": {},
   "outputs": [
    {
     "data": {
      "text/html": [
       "<div>\n",
       "<style scoped>\n",
       "    .dataframe tbody tr th:only-of-type {\n",
       "        vertical-align: middle;\n",
       "    }\n",
       "\n",
       "    .dataframe tbody tr th {\n",
       "        vertical-align: top;\n",
       "    }\n",
       "\n",
       "    .dataframe thead th {\n",
       "        text-align: right;\n",
       "    }\n",
       "</style>\n",
       "<table border=\"1\" class=\"dataframe\">\n",
       "  <thead>\n",
       "    <tr style=\"text-align: right;\">\n",
       "      <th></th>\n",
       "      <th>Feature1</th>\n",
       "      <th>Feature2</th>\n",
       "      <th>Feature3</th>\n",
       "      <th>Feature4</th>\n",
       "      <th>Feature5</th>\n",
       "      <th>Feature6</th>\n",
       "      <th>Feature7</th>\n",
       "      <th>Feature8</th>\n",
       "      <th>Feature9</th>\n",
       "      <th>Class</th>\n",
       "    </tr>\n",
       "  </thead>\n",
       "  <tbody>\n",
       "    <tr>\n",
       "      <th>0</th>\n",
       "      <td>5</td>\n",
       "      <td>1</td>\n",
       "      <td>1</td>\n",
       "      <td>1</td>\n",
       "      <td>2</td>\n",
       "      <td>1</td>\n",
       "      <td>3</td>\n",
       "      <td>1</td>\n",
       "      <td>1</td>\n",
       "      <td>2</td>\n",
       "    </tr>\n",
       "    <tr>\n",
       "      <th>1</th>\n",
       "      <td>5</td>\n",
       "      <td>4</td>\n",
       "      <td>4</td>\n",
       "      <td>5</td>\n",
       "      <td>7</td>\n",
       "      <td>10</td>\n",
       "      <td>3</td>\n",
       "      <td>2</td>\n",
       "      <td>1</td>\n",
       "      <td>2</td>\n",
       "    </tr>\n",
       "    <tr>\n",
       "      <th>2</th>\n",
       "      <td>3</td>\n",
       "      <td>1</td>\n",
       "      <td>1</td>\n",
       "      <td>1</td>\n",
       "      <td>2</td>\n",
       "      <td>2</td>\n",
       "      <td>3</td>\n",
       "      <td>1</td>\n",
       "      <td>1</td>\n",
       "      <td>2</td>\n",
       "    </tr>\n",
       "    <tr>\n",
       "      <th>3</th>\n",
       "      <td>6</td>\n",
       "      <td>8</td>\n",
       "      <td>8</td>\n",
       "      <td>1</td>\n",
       "      <td>3</td>\n",
       "      <td>4</td>\n",
       "      <td>3</td>\n",
       "      <td>7</td>\n",
       "      <td>1</td>\n",
       "      <td>2</td>\n",
       "    </tr>\n",
       "    <tr>\n",
       "      <th>4</th>\n",
       "      <td>4</td>\n",
       "      <td>1</td>\n",
       "      <td>1</td>\n",
       "      <td>3</td>\n",
       "      <td>2</td>\n",
       "      <td>1</td>\n",
       "      <td>3</td>\n",
       "      <td>1</td>\n",
       "      <td>1</td>\n",
       "      <td>2</td>\n",
       "    </tr>\n",
       "    <tr>\n",
       "      <th>...</th>\n",
       "      <td>...</td>\n",
       "      <td>...</td>\n",
       "      <td>...</td>\n",
       "      <td>...</td>\n",
       "      <td>...</td>\n",
       "      <td>...</td>\n",
       "      <td>...</td>\n",
       "      <td>...</td>\n",
       "      <td>...</td>\n",
       "      <td>...</td>\n",
       "    </tr>\n",
       "    <tr>\n",
       "      <th>694</th>\n",
       "      <td>3</td>\n",
       "      <td>1</td>\n",
       "      <td>1</td>\n",
       "      <td>1</td>\n",
       "      <td>3</td>\n",
       "      <td>2</td>\n",
       "      <td>1</td>\n",
       "      <td>1</td>\n",
       "      <td>1</td>\n",
       "      <td>2</td>\n",
       "    </tr>\n",
       "    <tr>\n",
       "      <th>695</th>\n",
       "      <td>2</td>\n",
       "      <td>1</td>\n",
       "      <td>1</td>\n",
       "      <td>1</td>\n",
       "      <td>2</td>\n",
       "      <td>1</td>\n",
       "      <td>1</td>\n",
       "      <td>1</td>\n",
       "      <td>1</td>\n",
       "      <td>2</td>\n",
       "    </tr>\n",
       "    <tr>\n",
       "      <th>696</th>\n",
       "      <td>5</td>\n",
       "      <td>10</td>\n",
       "      <td>10</td>\n",
       "      <td>3</td>\n",
       "      <td>7</td>\n",
       "      <td>3</td>\n",
       "      <td>8</td>\n",
       "      <td>10</td>\n",
       "      <td>2</td>\n",
       "      <td>4</td>\n",
       "    </tr>\n",
       "    <tr>\n",
       "      <th>697</th>\n",
       "      <td>4</td>\n",
       "      <td>8</td>\n",
       "      <td>6</td>\n",
       "      <td>4</td>\n",
       "      <td>3</td>\n",
       "      <td>4</td>\n",
       "      <td>10</td>\n",
       "      <td>6</td>\n",
       "      <td>1</td>\n",
       "      <td>4</td>\n",
       "    </tr>\n",
       "    <tr>\n",
       "      <th>698</th>\n",
       "      <td>4</td>\n",
       "      <td>8</td>\n",
       "      <td>8</td>\n",
       "      <td>5</td>\n",
       "      <td>4</td>\n",
       "      <td>5</td>\n",
       "      <td>10</td>\n",
       "      <td>4</td>\n",
       "      <td>1</td>\n",
       "      <td>4</td>\n",
       "    </tr>\n",
       "  </tbody>\n",
       "</table>\n",
       "<p>683 rows × 10 columns</p>\n",
       "</div>"
      ],
      "text/plain": [
       "     Feature1  Feature2  Feature3  Feature4  Feature5 Feature6  Feature7  \\\n",
       "0           5         1         1         1         2        1         3   \n",
       "1           5         4         4         5         7       10         3   \n",
       "2           3         1         1         1         2        2         3   \n",
       "3           6         8         8         1         3        4         3   \n",
       "4           4         1         1         3         2        1         3   \n",
       "..        ...       ...       ...       ...       ...      ...       ...   \n",
       "694         3         1         1         1         3        2         1   \n",
       "695         2         1         1         1         2        1         1   \n",
       "696         5        10        10         3         7        3         8   \n",
       "697         4         8         6         4         3        4        10   \n",
       "698         4         8         8         5         4        5        10   \n",
       "\n",
       "     Feature8  Feature9  Class  \n",
       "0           1         1      2  \n",
       "1           2         1      2  \n",
       "2           1         1      2  \n",
       "3           7         1      2  \n",
       "4           1         1      2  \n",
       "..        ...       ...    ...  \n",
       "694         1         1      2  \n",
       "695         1         1      2  \n",
       "696        10         2      4  \n",
       "697         6         1      4  \n",
       "698         4         1      4  \n",
       "\n",
       "[683 rows x 10 columns]"
      ]
     },
     "execution_count": 3,
     "metadata": {},
     "output_type": "execute_result"
    }
   ],
   "source": [
    "label_encoder = LabelEncoder()\n",
    "file_path = r\"D:\\Coding_Dev\\College\\SEM_6\\ML\\Assets\\breast_cancer_wisconsin_original\\breast-cancer-wisconsin.data\"\n",
    "columns = [\"Feature0\",\"Feature1\", \"Feature2\", \"Feature3\", \"Feature4\", \"Feature5\", \"Feature6\", \"Feature7\", \"Feature8\", \"Feature9\", \"Class\"]\n",
    "data = pd.read_csv(file_path, header=None, sep=\",\", names=columns)\n",
    "data.drop(\"Feature0\", axis=1, inplace=True)\n",
    "data.replace('?', pd.NA, inplace=True)\n",
    "data.dropna(inplace=True)"
   ]
  },
  {
   "cell_type": "code",
   "execution_count": 58,
   "metadata": {},
   "outputs": [],
   "source": [
    "train_data, test_data = train_test_split(data, test_size=0.3, random_state=42)"
   ]
  },
  {
   "cell_type": "code",
   "execution_count": 59,
   "metadata": {},
   "outputs": [
    {
     "data": {
      "text/html": [
       "<style>#sk-container-id-4 {color: black;}#sk-container-id-4 pre{padding: 0;}#sk-container-id-4 div.sk-toggleable {background-color: white;}#sk-container-id-4 label.sk-toggleable__label {cursor: pointer;display: block;width: 100%;margin-bottom: 0;padding: 0.3em;box-sizing: border-box;text-align: center;}#sk-container-id-4 label.sk-toggleable__label-arrow:before {content: \"▸\";float: left;margin-right: 0.25em;color: #696969;}#sk-container-id-4 label.sk-toggleable__label-arrow:hover:before {color: black;}#sk-container-id-4 div.sk-estimator:hover label.sk-toggleable__label-arrow:before {color: black;}#sk-container-id-4 div.sk-toggleable__content {max-height: 0;max-width: 0;overflow: hidden;text-align: left;background-color: #f0f8ff;}#sk-container-id-4 div.sk-toggleable__content pre {margin: 0.2em;color: black;border-radius: 0.25em;background-color: #f0f8ff;}#sk-container-id-4 input.sk-toggleable__control:checked~div.sk-toggleable__content {max-height: 200px;max-width: 100%;overflow: auto;}#sk-container-id-4 input.sk-toggleable__control:checked~label.sk-toggleable__label-arrow:before {content: \"▾\";}#sk-container-id-4 div.sk-estimator input.sk-toggleable__control:checked~label.sk-toggleable__label {background-color: #d4ebff;}#sk-container-id-4 div.sk-label input.sk-toggleable__control:checked~label.sk-toggleable__label {background-color: #d4ebff;}#sk-container-id-4 input.sk-hidden--visually {border: 0;clip: rect(1px 1px 1px 1px);clip: rect(1px, 1px, 1px, 1px);height: 1px;margin: -1px;overflow: hidden;padding: 0;position: absolute;width: 1px;}#sk-container-id-4 div.sk-estimator {font-family: monospace;background-color: #f0f8ff;border: 1px dotted black;border-radius: 0.25em;box-sizing: border-box;margin-bottom: 0.5em;}#sk-container-id-4 div.sk-estimator:hover {background-color: #d4ebff;}#sk-container-id-4 div.sk-parallel-item::after {content: \"\";width: 100%;border-bottom: 1px solid gray;flex-grow: 1;}#sk-container-id-4 div.sk-label:hover label.sk-toggleable__label {background-color: #d4ebff;}#sk-container-id-4 div.sk-serial::before {content: \"\";position: absolute;border-left: 1px solid gray;box-sizing: border-box;top: 0;bottom: 0;left: 50%;z-index: 0;}#sk-container-id-4 div.sk-serial {display: flex;flex-direction: column;align-items: center;background-color: white;padding-right: 0.2em;padding-left: 0.2em;position: relative;}#sk-container-id-4 div.sk-item {position: relative;z-index: 1;}#sk-container-id-4 div.sk-parallel {display: flex;align-items: stretch;justify-content: center;background-color: white;position: relative;}#sk-container-id-4 div.sk-item::before, #sk-container-id-4 div.sk-parallel-item::before {content: \"\";position: absolute;border-left: 1px solid gray;box-sizing: border-box;top: 0;bottom: 0;left: 50%;z-index: -1;}#sk-container-id-4 div.sk-parallel-item {display: flex;flex-direction: column;z-index: 1;position: relative;background-color: white;}#sk-container-id-4 div.sk-parallel-item:first-child::after {align-self: flex-end;width: 50%;}#sk-container-id-4 div.sk-parallel-item:last-child::after {align-self: flex-start;width: 50%;}#sk-container-id-4 div.sk-parallel-item:only-child::after {width: 0;}#sk-container-id-4 div.sk-dashed-wrapped {border: 1px dashed gray;margin: 0 0.4em 0.5em 0.4em;box-sizing: border-box;padding-bottom: 0.4em;background-color: white;}#sk-container-id-4 div.sk-label label {font-family: monospace;font-weight: bold;display: inline-block;line-height: 1.2em;}#sk-container-id-4 div.sk-label-container {text-align: center;}#sk-container-id-4 div.sk-container {/* jupyter's `normalize.less` sets `[hidden] { display: none; }` but bootstrap.min.css set `[hidden] { display: none !important; }` so we also need the `!important` here to be able to override the default hidden behavior on the sphinx rendered scikit-learn.org. See: https://github.com/scikit-learn/scikit-learn/issues/21755 */display: inline-block !important;position: relative;}#sk-container-id-4 div.sk-text-repr-fallback {display: none;}</style><div id=\"sk-container-id-4\" class=\"sk-top-container\"><div class=\"sk-text-repr-fallback\"><pre>KNeighborsClassifier()</pre><b>In a Jupyter environment, please rerun this cell to show the HTML representation or trust the notebook. <br />On GitHub, the HTML representation is unable to render, please try loading this page with nbviewer.org.</b></div><div class=\"sk-container\" hidden><div class=\"sk-item\"><div class=\"sk-estimator sk-toggleable\"><input class=\"sk-toggleable__control sk-hidden--visually\" id=\"sk-estimator-id-4\" type=\"checkbox\" checked><label for=\"sk-estimator-id-4\" class=\"sk-toggleable__label sk-toggleable__label-arrow\">KNeighborsClassifier</label><div class=\"sk-toggleable__content\"><pre>KNeighborsClassifier()</pre></div></div></div></div></div>"
      ],
      "text/plain": [
       "KNeighborsClassifier()"
      ]
     },
     "execution_count": 59,
     "metadata": {},
     "output_type": "execute_result"
    }
   ],
   "source": [
    "from sklearn.neighbors import KNeighborsClassifier\n",
    "\n",
    "knn_classifier = KNeighborsClassifier(n_neighbors=5)  # You can adjust the number of neighbors as needed\n",
    "knn_classifier.fit(train_data.drop(\"Class\", axis=1), train_data[\"Class\"])"
   ]
  },
  {
   "cell_type": "code",
   "execution_count": 60,
   "metadata": {},
   "outputs": [
    {
     "data": {
      "text/html": [
       "<style>#sk-container-id-5 {color: black;}#sk-container-id-5 pre{padding: 0;}#sk-container-id-5 div.sk-toggleable {background-color: white;}#sk-container-id-5 label.sk-toggleable__label {cursor: pointer;display: block;width: 100%;margin-bottom: 0;padding: 0.3em;box-sizing: border-box;text-align: center;}#sk-container-id-5 label.sk-toggleable__label-arrow:before {content: \"▸\";float: left;margin-right: 0.25em;color: #696969;}#sk-container-id-5 label.sk-toggleable__label-arrow:hover:before {color: black;}#sk-container-id-5 div.sk-estimator:hover label.sk-toggleable__label-arrow:before {color: black;}#sk-container-id-5 div.sk-toggleable__content {max-height: 0;max-width: 0;overflow: hidden;text-align: left;background-color: #f0f8ff;}#sk-container-id-5 div.sk-toggleable__content pre {margin: 0.2em;color: black;border-radius: 0.25em;background-color: #f0f8ff;}#sk-container-id-5 input.sk-toggleable__control:checked~div.sk-toggleable__content {max-height: 200px;max-width: 100%;overflow: auto;}#sk-container-id-5 input.sk-toggleable__control:checked~label.sk-toggleable__label-arrow:before {content: \"▾\";}#sk-container-id-5 div.sk-estimator input.sk-toggleable__control:checked~label.sk-toggleable__label {background-color: #d4ebff;}#sk-container-id-5 div.sk-label input.sk-toggleable__control:checked~label.sk-toggleable__label {background-color: #d4ebff;}#sk-container-id-5 input.sk-hidden--visually {border: 0;clip: rect(1px 1px 1px 1px);clip: rect(1px, 1px, 1px, 1px);height: 1px;margin: -1px;overflow: hidden;padding: 0;position: absolute;width: 1px;}#sk-container-id-5 div.sk-estimator {font-family: monospace;background-color: #f0f8ff;border: 1px dotted black;border-radius: 0.25em;box-sizing: border-box;margin-bottom: 0.5em;}#sk-container-id-5 div.sk-estimator:hover {background-color: #d4ebff;}#sk-container-id-5 div.sk-parallel-item::after {content: \"\";width: 100%;border-bottom: 1px solid gray;flex-grow: 1;}#sk-container-id-5 div.sk-label:hover label.sk-toggleable__label {background-color: #d4ebff;}#sk-container-id-5 div.sk-serial::before {content: \"\";position: absolute;border-left: 1px solid gray;box-sizing: border-box;top: 0;bottom: 0;left: 50%;z-index: 0;}#sk-container-id-5 div.sk-serial {display: flex;flex-direction: column;align-items: center;background-color: white;padding-right: 0.2em;padding-left: 0.2em;position: relative;}#sk-container-id-5 div.sk-item {position: relative;z-index: 1;}#sk-container-id-5 div.sk-parallel {display: flex;align-items: stretch;justify-content: center;background-color: white;position: relative;}#sk-container-id-5 div.sk-item::before, #sk-container-id-5 div.sk-parallel-item::before {content: \"\";position: absolute;border-left: 1px solid gray;box-sizing: border-box;top: 0;bottom: 0;left: 50%;z-index: -1;}#sk-container-id-5 div.sk-parallel-item {display: flex;flex-direction: column;z-index: 1;position: relative;background-color: white;}#sk-container-id-5 div.sk-parallel-item:first-child::after {align-self: flex-end;width: 50%;}#sk-container-id-5 div.sk-parallel-item:last-child::after {align-self: flex-start;width: 50%;}#sk-container-id-5 div.sk-parallel-item:only-child::after {width: 0;}#sk-container-id-5 div.sk-dashed-wrapped {border: 1px dashed gray;margin: 0 0.4em 0.5em 0.4em;box-sizing: border-box;padding-bottom: 0.4em;background-color: white;}#sk-container-id-5 div.sk-label label {font-family: monospace;font-weight: bold;display: inline-block;line-height: 1.2em;}#sk-container-id-5 div.sk-label-container {text-align: center;}#sk-container-id-5 div.sk-container {/* jupyter's `normalize.less` sets `[hidden] { display: none; }` but bootstrap.min.css set `[hidden] { display: none !important; }` so we also need the `!important` here to be able to override the default hidden behavior on the sphinx rendered scikit-learn.org. See: https://github.com/scikit-learn/scikit-learn/issues/21755 */display: inline-block !important;position: relative;}#sk-container-id-5 div.sk-text-repr-fallback {display: none;}</style><div id=\"sk-container-id-5\" class=\"sk-top-container\"><div class=\"sk-text-repr-fallback\"><pre>DecisionTreeClassifier()</pre><b>In a Jupyter environment, please rerun this cell to show the HTML representation or trust the notebook. <br />On GitHub, the HTML representation is unable to render, please try loading this page with nbviewer.org.</b></div><div class=\"sk-container\" hidden><div class=\"sk-item\"><div class=\"sk-estimator sk-toggleable\"><input class=\"sk-toggleable__control sk-hidden--visually\" id=\"sk-estimator-id-5\" type=\"checkbox\" checked><label for=\"sk-estimator-id-5\" class=\"sk-toggleable__label sk-toggleable__label-arrow\">DecisionTreeClassifier</label><div class=\"sk-toggleable__content\"><pre>DecisionTreeClassifier()</pre></div></div></div></div></div>"
      ],
      "text/plain": [
       "DecisionTreeClassifier()"
      ]
     },
     "execution_count": 60,
     "metadata": {},
     "output_type": "execute_result"
    }
   ],
   "source": [
    "from sklearn.tree import DecisionTreeClassifier\n",
    "\n",
    "tree_classifier = DecisionTreeClassifier()\n",
    "tree_classifier.fit(train_data.drop(\"Class\", axis=1), train_data[\"Class\"])"
   ]
  },
  {
   "cell_type": "code",
   "execution_count": 61,
   "metadata": {},
   "outputs": [
    {
     "data": {
      "text/html": [
       "<style>#sk-container-id-6 {color: black;}#sk-container-id-6 pre{padding: 0;}#sk-container-id-6 div.sk-toggleable {background-color: white;}#sk-container-id-6 label.sk-toggleable__label {cursor: pointer;display: block;width: 100%;margin-bottom: 0;padding: 0.3em;box-sizing: border-box;text-align: center;}#sk-container-id-6 label.sk-toggleable__label-arrow:before {content: \"▸\";float: left;margin-right: 0.25em;color: #696969;}#sk-container-id-6 label.sk-toggleable__label-arrow:hover:before {color: black;}#sk-container-id-6 div.sk-estimator:hover label.sk-toggleable__label-arrow:before {color: black;}#sk-container-id-6 div.sk-toggleable__content {max-height: 0;max-width: 0;overflow: hidden;text-align: left;background-color: #f0f8ff;}#sk-container-id-6 div.sk-toggleable__content pre {margin: 0.2em;color: black;border-radius: 0.25em;background-color: #f0f8ff;}#sk-container-id-6 input.sk-toggleable__control:checked~div.sk-toggleable__content {max-height: 200px;max-width: 100%;overflow: auto;}#sk-container-id-6 input.sk-toggleable__control:checked~label.sk-toggleable__label-arrow:before {content: \"▾\";}#sk-container-id-6 div.sk-estimator input.sk-toggleable__control:checked~label.sk-toggleable__label {background-color: #d4ebff;}#sk-container-id-6 div.sk-label input.sk-toggleable__control:checked~label.sk-toggleable__label {background-color: #d4ebff;}#sk-container-id-6 input.sk-hidden--visually {border: 0;clip: rect(1px 1px 1px 1px);clip: rect(1px, 1px, 1px, 1px);height: 1px;margin: -1px;overflow: hidden;padding: 0;position: absolute;width: 1px;}#sk-container-id-6 div.sk-estimator {font-family: monospace;background-color: #f0f8ff;border: 1px dotted black;border-radius: 0.25em;box-sizing: border-box;margin-bottom: 0.5em;}#sk-container-id-6 div.sk-estimator:hover {background-color: #d4ebff;}#sk-container-id-6 div.sk-parallel-item::after {content: \"\";width: 100%;border-bottom: 1px solid gray;flex-grow: 1;}#sk-container-id-6 div.sk-label:hover label.sk-toggleable__label {background-color: #d4ebff;}#sk-container-id-6 div.sk-serial::before {content: \"\";position: absolute;border-left: 1px solid gray;box-sizing: border-box;top: 0;bottom: 0;left: 50%;z-index: 0;}#sk-container-id-6 div.sk-serial {display: flex;flex-direction: column;align-items: center;background-color: white;padding-right: 0.2em;padding-left: 0.2em;position: relative;}#sk-container-id-6 div.sk-item {position: relative;z-index: 1;}#sk-container-id-6 div.sk-parallel {display: flex;align-items: stretch;justify-content: center;background-color: white;position: relative;}#sk-container-id-6 div.sk-item::before, #sk-container-id-6 div.sk-parallel-item::before {content: \"\";position: absolute;border-left: 1px solid gray;box-sizing: border-box;top: 0;bottom: 0;left: 50%;z-index: -1;}#sk-container-id-6 div.sk-parallel-item {display: flex;flex-direction: column;z-index: 1;position: relative;background-color: white;}#sk-container-id-6 div.sk-parallel-item:first-child::after {align-self: flex-end;width: 50%;}#sk-container-id-6 div.sk-parallel-item:last-child::after {align-self: flex-start;width: 50%;}#sk-container-id-6 div.sk-parallel-item:only-child::after {width: 0;}#sk-container-id-6 div.sk-dashed-wrapped {border: 1px dashed gray;margin: 0 0.4em 0.5em 0.4em;box-sizing: border-box;padding-bottom: 0.4em;background-color: white;}#sk-container-id-6 div.sk-label label {font-family: monospace;font-weight: bold;display: inline-block;line-height: 1.2em;}#sk-container-id-6 div.sk-label-container {text-align: center;}#sk-container-id-6 div.sk-container {/* jupyter's `normalize.less` sets `[hidden] { display: none; }` but bootstrap.min.css set `[hidden] { display: none !important; }` so we also need the `!important` here to be able to override the default hidden behavior on the sphinx rendered scikit-learn.org. See: https://github.com/scikit-learn/scikit-learn/issues/21755 */display: inline-block !important;position: relative;}#sk-container-id-6 div.sk-text-repr-fallback {display: none;}</style><div id=\"sk-container-id-6\" class=\"sk-top-container\"><div class=\"sk-text-repr-fallback\"><pre>GaussianNB()</pre><b>In a Jupyter environment, please rerun this cell to show the HTML representation or trust the notebook. <br />On GitHub, the HTML representation is unable to render, please try loading this page with nbviewer.org.</b></div><div class=\"sk-container\" hidden><div class=\"sk-item\"><div class=\"sk-estimator sk-toggleable\"><input class=\"sk-toggleable__control sk-hidden--visually\" id=\"sk-estimator-id-6\" type=\"checkbox\" checked><label for=\"sk-estimator-id-6\" class=\"sk-toggleable__label sk-toggleable__label-arrow\">GaussianNB</label><div class=\"sk-toggleable__content\"><pre>GaussianNB()</pre></div></div></div></div></div>"
      ],
      "text/plain": [
       "GaussianNB()"
      ]
     },
     "execution_count": 61,
     "metadata": {},
     "output_type": "execute_result"
    }
   ],
   "source": [
    "from sklearn.naive_bayes import GaussianNB\n",
    "\n",
    "nb_classifier = GaussianNB()\n",
    "nb_classifier.fit(train_data.drop(\"Class\", axis=1), train_data[\"Class\"])\n"
   ]
  },
  {
   "cell_type": "code",
   "execution_count": 62,
   "metadata": {},
   "outputs": [
    {
     "name": "stdout",
     "output_type": "stream",
     "text": [
      "Confusion Matrix for K Nearest Neighbor:\n",
      "[[125   2]\n",
      " [  7  71]]\n",
      "\n",
      "Confusion Matrix for Univariate Decision Tree:\n",
      "[[124   3]\n",
      " [  9  69]]\n",
      "\n",
      "Confusion Matrix for Naive Bayes Gaussian Classifier:\n",
      "[[123   4]\n",
      " [  3  75]]\n"
     ]
    }
   ],
   "source": [
    "from sklearn.metrics import confusion_matrix\n",
    "\n",
    "# Define a function to calculate and print confusion matrix\n",
    "def evaluate_classifier(classifier, test_data):\n",
    "    X_test = test_data.drop(\"Class\", axis=1)\n",
    "    y_test = test_data[\"Class\"]\n",
    "    y_pred = classifier.predict(X_test)\n",
    "    cm = confusion_matrix(y_test, y_pred)\n",
    "    return cm\n",
    "\n",
    "# Evaluate each classifier\n",
    "knn_cm = evaluate_classifier(knn_classifier, test_data)\n",
    "tree_cm = evaluate_classifier(tree_classifier, test_data)\n",
    "nb_cm = evaluate_classifier(nb_classifier, test_data)\n",
    "\n",
    "# Print confusion matrices\n",
    "print(\"Confusion Matrix for K Nearest Neighbor:\")\n",
    "print(knn_cm)\n",
    "print(\"\\nConfusion Matrix for Univariate Decision Tree:\")\n",
    "print(tree_cm)\n",
    "print(\"\\nConfusion Matrix for Naive Bayes Gaussian Classifier:\")\n",
    "print(nb_cm)"
   ]
  },
  {
   "cell_type": "code",
   "execution_count": 63,
   "metadata": {},
   "outputs": [
    {
     "name": "stdout",
     "output_type": "stream",
     "text": [
      "\n",
      "Metrics for K Nearest Neighbor:\n",
      "Accuracy: 0.9560975609756097\n",
      "Precision: 0.946969696969697\n",
      "Recall: 0.984251968503937\n",
      "Specificity: 0.984251968503937\n",
      "F1-Score: 0.9652509652509653\n",
      "\n",
      "Metrics for Univariate Decision Tree:\n",
      "Accuracy: 0.9317073170731708\n",
      "Precision: 0.9124087591240876\n",
      "Recall: 0.984251968503937\n",
      "Specificity: 0.984251968503937\n",
      "F1-Score: 0.9469696969696969\n",
      "\n",
      "Metrics for Naïve Bayes Gaussian Classifier:\n",
      "Accuracy: 0.9658536585365853\n",
      "Precision: 0.9761904761904762\n",
      "Recall: 0.968503937007874\n",
      "Specificity: 0.968503937007874\n",
      "F1-Score: 0.9723320158102767\n"
     ]
    }
   ],
   "source": [
    "# Function to calculate and print evaluation metrics\n",
    "def evaluate_metrics(classifier_name, y_true, y_pred, positive_label):\n",
    "    from sklearn.metrics import accuracy_score, precision_score, recall_score, f1_score\n",
    "\n",
    "    accuracy = accuracy_score(y_true, y_pred)\n",
    "    precision = precision_score(y_true, y_pred, pos_label=positive_label)\n",
    "    recall = recall_score(y_true, y_pred, pos_label=positive_label)\n",
    "    tn, fp, fn, tp = confusion_matrix(y_true, y_pred).ravel()\n",
    "    specificity = tn / (tn + fp) if (tn + fp) != 0 else 0\n",
    "    f1 = f1_score(y_true, y_pred, pos_label=positive_label)\n",
    "\n",
    "    print(f\"\\nMetrics for {classifier_name}:\")\n",
    "    print(\"Accuracy:\", accuracy)\n",
    "    print(\"Precision:\", precision)\n",
    "    print(\"Recall:\", recall)\n",
    "    print(\"Specificity:\", specificity)\n",
    "    print(\"F1-Score:\", f1)\n",
    "\n",
    "#Accuracy: (TP + TN) / (TP + TN + FP + FN) - Measures overall correctness of predictions.\n",
    "\n",
    "# Precision (Positive Predictive Value): TP / (TP + FP) - Measures how many of the predicted positive cases were actually positive.\n",
    "\n",
    "# Recall (Sensitivity, True Positive Rate): TP / (TP + FN) - Measures how many of the actual positive cases were correctly predicted by the classifier.\n",
    "\n",
    "# Specificity (True Negative Rate): TN / (TN + FP) - Measures how many of the actual negative cases were correctly predicted by the classifier.\n",
    "\n",
    "# F1-Score: 2 * (Precision * Recall) / (Precision + Recall) - A harmonic mean of precision and recall, useful for balancing the trade-off between false positives and false negatives.\n",
    "\n",
    "positive_label = 2\n",
    "\n",
    "evaluate_metrics(\"K Nearest Neighbor\", y_true_knn, y_pred_knn, positive_label)\n",
    "evaluate_metrics(\"Univariate Decision Tree\", y_true_tree, y_pred_tree, positive_label)\n",
    "evaluate_metrics(\"Naïve Bayes Gaussian Classifier\", y_true_nb, y_pred_nb, positive_label)\n"
   ]
  },
  {
   "cell_type": "code",
   "execution_count": 64,
   "metadata": {},
   "outputs": [
    {
     "name": "stdout",
     "output_type": "stream",
     "text": [
      "KNN Classifier:\n",
      "Total indices: 205\n",
      "Misclassified samples in KNN Classifier: 9\n",
      "\n",
      "Univariate decision tree Classifier:\n",
      "Total indices: 205\n",
      "Misclassified samples in Univariate Decision Tree Classifier: 12\n",
      "\n",
      "Naive Bayes Classifier:\n",
      "Total indices: 205\n",
      "Misclassified samples in Naive Bayes Classifier: 7\n",
      "\n",
      "\n",
      "Misclassified Samples:\n",
      "{'Index': 14, 'True Class': 4, 'Predicted Class': 2}\n",
      "{'Index': 56, 'True Class': 4, 'Predicted Class': 2}\n",
      "{'Index': 67, 'True Class': 4, 'Predicted Class': 2}\n",
      "{'Index': 93, 'True Class': 4, 'Predicted Class': 2}\n",
      "{'Index': 97, 'True Class': 2, 'Predicted Class': 4}\n",
      "{'Index': 105, 'True Class': 4, 'Predicted Class': 2}\n",
      "{'Index': 145, 'True Class': 4, 'Predicted Class': 2}\n",
      "{'Index': 170, 'True Class': 4, 'Predicted Class': 2}\n",
      "{'Index': 186, 'True Class': 2, 'Predicted Class': 4}\n",
      "{'Index': 14, 'True Class': 4, 'Predicted Class': 2}\n",
      "{'Index': 33, 'True Class': 4, 'Predicted Class': 2}\n",
      "{'Index': 56, 'True Class': 4, 'Predicted Class': 2}\n",
      "{'Index': 78, 'True Class': 4, 'Predicted Class': 2}\n",
      "{'Index': 81, 'True Class': 4, 'Predicted Class': 2}\n",
      "{'Index': 93, 'True Class': 4, 'Predicted Class': 2}\n",
      "{'Index': 97, 'True Class': 2, 'Predicted Class': 4}\n",
      "{'Index': 99, 'True Class': 2, 'Predicted Class': 4}\n",
      "{'Index': 105, 'True Class': 4, 'Predicted Class': 2}\n",
      "{'Index': 112, 'True Class': 4, 'Predicted Class': 2}\n",
      "{'Index': 145, 'True Class': 4, 'Predicted Class': 2}\n",
      "{'Index': 186, 'True Class': 2, 'Predicted Class': 4}\n",
      "{'Index': 7, 'True Class': 2, 'Predicted Class': 4}\n",
      "{'Index': 14, 'True Class': 4, 'Predicted Class': 2}\n",
      "{'Index': 93, 'True Class': 4, 'Predicted Class': 2}\n",
      "{'Index': 97, 'True Class': 2, 'Predicted Class': 4}\n",
      "{'Index': 99, 'True Class': 2, 'Predicted Class': 4}\n",
      "{'Index': 105, 'True Class': 4, 'Predicted Class': 2}\n",
      "{'Index': 186, 'True Class': 2, 'Predicted Class': 4}\n"
     ]
    }
   ],
   "source": [
    "misclassified_samples = []\n",
    "\n",
    "def find_misclassified_samples(classifier, test_data):\n",
    "    X_test = test_data.drop(\"Class\", axis=1)\n",
    "    y_test = test_data[\"Class\"]\n",
    "    y_pred = classifier.predict(X_test)\n",
    "    print(f\"Total indices: {len(y_test)}\")\n",
    "    for i in range(len(y_test)):\n",
    "        if y_test.iloc[i] != y_pred[i]:\n",
    "            misclassified_samples.append({\n",
    "                \"Index\": i,\n",
    "                \"True Class\": y_test.iloc[i],\n",
    "                \"Predicted Class\": y_pred[i]\n",
    "            })\n",
    "    return len(misclassified_samples)\n",
    "\n",
    "# Find misclassified samples for each classifier\n",
    "print(\"KNN Classifier:\")\n",
    "knn_mis_samples = find_misclassified_samples(knn_classifier, test_data)\n",
    "print(f\"Misclassified samples in KNN Classifier: {knn_mis_samples}\\n\")\n",
    "print(\"Univariate decision tree Classifier:\")\n",
    "tree_mis_samples = find_misclassified_samples(tree_classifier, test_data)\n",
    "print(f\"Misclassified samples in Univariate Decision Tree Classifier: {tree_mis_samples - knn_mis_samples}\\n\")\n",
    "print(\"Naive Bayes Classifier:\")\n",
    "nb_mis_samples = find_misclassified_samples(nb_classifier, test_data)\n",
    "print(f\"Misclassified samples in Naive Bayes Classifier: {nb_mis_samples - tree_mis_samples}\\n\")\n",
    "\n",
    "# Print misclassified samples\n",
    "print(\"\\nMisclassified Samples:\")\n",
    "for sample in misclassified_samples:\n",
    "    print(sample)"
   ]
  },
  {
   "cell_type": "code",
   "execution_count": 65,
   "metadata": {},
   "outputs": [
    {
     "name": "stdout",
     "output_type": "stream",
     "text": [
      "Common Misclassified Samples by All Classifiers:\n",
      "Index: 14, True Class: 4, Predicted Class: 2\n",
      "Index: 56, True Class: 4, Predicted Class: 2\n",
      "Index: 67, True Class: 4, Predicted Class: 2\n",
      "Index: 93, True Class: 4, Predicted Class: 2\n",
      "Index: 105, True Class: 4, Predicted Class: 2\n",
      "Index: 145, True Class: 4, Predicted Class: 2\n",
      "Index: 170, True Class: 4, Predicted Class: 2\n",
      "Index: 14, True Class: 4, Predicted Class: 2\n",
      "Index: 33, True Class: 4, Predicted Class: 2\n",
      "Index: 56, True Class: 4, Predicted Class: 2\n",
      "Index: 78, True Class: 4, Predicted Class: 2\n",
      "Index: 81, True Class: 4, Predicted Class: 2\n",
      "Index: 93, True Class: 4, Predicted Class: 2\n",
      "Index: 105, True Class: 4, Predicted Class: 2\n",
      "Index: 112, True Class: 4, Predicted Class: 2\n",
      "Index: 145, True Class: 4, Predicted Class: 2\n",
      "Index: 14, True Class: 4, Predicted Class: 2\n",
      "Index: 93, True Class: 4, Predicted Class: 2\n",
      "Index: 105, True Class: 4, Predicted Class: 2\n"
     ]
    }
   ],
   "source": [
    "# Create sets to store indices of misclassified samples by each classifier\n",
    "knn_misclassified_indices = set(sample[\"Index\"] for sample in misclassified_samples if sample[\"Predicted Class\"] != sample[\"True Class\"] and sample[\"Predicted Class\"] == 2)\n",
    "tree_misclassified_indices = set(sample[\"Index\"] for sample in misclassified_samples if sample[\"Predicted Class\"] != sample[\"True Class\"] and sample[\"Predicted Class\"] == 2)\n",
    "nb_misclassified_indices = set(sample[\"Index\"] for sample in misclassified_samples if sample[\"Predicted Class\"] != sample[\"True Class\"] and sample[\"Predicted Class\"] == 2)\n",
    "\n",
    "\n",
    "# Find the common misclassified indices\n",
    "common_misclassified_indices = knn_misclassified_indices.intersection(tree_misclassified_indices, nb_misclassified_indices)\n",
    "\n",
    "common_misclassified_list = []\n",
    "for sample in misclassified_samples:\n",
    "    if sample[\"Index\"] in common_misclassified_indices:\n",
    "        common_misclassified_list.append(sample)\n",
    "\n",
    "# Print common misclassified samples\n",
    "print(\"Common Misclassified Samples by All Classifiers:\")\n",
    "for sample in common_misclassified_list:\n",
    "    print(f\"Index: {sample['Index']}, True Class: {sample['True Class']}, Predicted Class: {sample['Predicted Class']}\")\n"
   ]
  },
  {
   "cell_type": "code",
   "execution_count": 73,
   "metadata": {},
   "outputs": [
    {
     "name": "stdout",
     "output_type": "stream",
     "text": [
      "Number of Rows with Class Label 2: 444\n",
      "Number of Rows with Class Label 4: 239\n"
     ]
    }
   ],
   "source": [
    "filtered_data = data[data['Class'].isin([2])]\n",
    "num_rows_with_class_2 = len(filtered_data)\n",
    "print(\"Number of Rows with Class Label 2:\", num_rows_with_class_2)\n",
    "\n",
    "filtered_data = data[data['Class'].isin([4])]\n",
    "num_rows_with_class_4 = len(filtered_data)\n",
    "print(\"Number of Rows with Class Label 4:\", num_rows_with_class_4)"
   ]
  },
  {
   "cell_type": "code",
   "execution_count": null,
   "metadata": {},
   "outputs": [],
   "source": []
  }
 ],
 "metadata": {
  "kernelspec": {
   "display_name": "Conda",
   "language": "python",
   "name": "python3"
  },
  "language_info": {
   "codemirror_mode": {
    "name": "ipython",
    "version": 3
   },
   "file_extension": ".py",
   "mimetype": "text/x-python",
   "name": "python",
   "nbconvert_exporter": "python",
   "pygments_lexer": "ipython3",
   "version": "3.9.15"
  },
  "orig_nbformat": 4
 },
 "nbformat": 4,
 "nbformat_minor": 2
}
