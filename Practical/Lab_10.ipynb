{
 "cells": [
  {
   "cell_type": "code",
   "execution_count": 14,
   "metadata": {},
   "outputs": [],
   "source": [
    "import pandas as pd\n",
    "import numpy as np\n",
    "import matplotlib.pyplot as plt\n",
    "from sklearn.model_selection import train_test_split\n",
    "from sklearn.linear_model import LogisticRegression\n",
    "from sklearn.feature_selection import mutual_info_classif"
   ]
  },
  {
   "cell_type": "code",
   "execution_count": 164,
   "metadata": {},
   "outputs": [],
   "source": [
    "file_path = r'D:\\Coding_Dev\\College\\SEM_6\\machine-learning-niit\\Assets\\archive\\Billionaires Statistics Dataset.csv'\n",
    "df = pd.read_csv(file_path)"
   ]
  },
  {
   "cell_type": "code",
   "execution_count": 165,
   "metadata": {},
   "outputs": [],
   "source": [
    "df = df.drop(columns=['city'])\n"
   ]
  },
  {
   "cell_type": "code",
   "execution_count": 166,
   "metadata": {},
   "outputs": [],
   "source": [
    "df['Class'] = np.where(df['country'] == 'United States', 'US', 'Non_US')\n",
    "columns_to_encode = df.select_dtypes(exclude=['number']).columns.difference(['Class'])\n",
    "# df = pd.get_dummies(df, columns=columns_to_encode, prefix=columns_to_encode)\n",
    "from sklearn.preprocessing import LabelEncoder\n",
    "\n",
    "# Create a LabelEncoder object\n",
    "label_encoder = LabelEncoder()\n",
    "\n",
    "# Iterate through the columns and label encode non-numeric columns\n",
    "for column in df.columns:\n",
    "    if not pd.api.types.is_numeric_dtype(df[column]):\n",
    "        df[column] = label_encoder.fit_transform(df[column])\n",
    "\n",
    "df.dropna(axis=0, inplace=True)"
   ]
  },
  {
   "cell_type": "code",
   "execution_count": 158,
   "metadata": {},
   "outputs": [],
   "source": [
    "X = df.drop(columns=['Class'])\n",
    "y = df['Class']\n",
    "\n",
    "X_train, X_test, y_train, y_test = train_test_split(X, y, test_size=0.2, random_state=42)"
   ]
  },
  {
   "cell_type": "code",
   "execution_count": 159,
   "metadata": {},
   "outputs": [
    {
     "ename": "ValueError",
     "evalue": "This solver needs samples of at least 2 classes in the data, but the data contains only one class: 0",
     "output_type": "error",
     "traceback": [
      "\u001b[1;31m---------------------------------------------------------------------------\u001b[0m",
      "\u001b[1;31mValueError\u001b[0m                                Traceback (most recent call last)",
      "\u001b[1;32md:\\Coding_Dev\\College\\SEM_6\\machine-learning-niit\\Practical\\Lab_10.ipynb Cell 6\u001b[0m line \u001b[0;36m2\n\u001b[0;32m      <a href='vscode-notebook-cell:/d%3A/Coding_Dev/College/SEM_6/machine-learning-niit/Practical/Lab_10.ipynb#W5sZmlsZQ%3D%3D?line=0'>1</a>\u001b[0m model \u001b[39m=\u001b[39m LogisticRegression()\n\u001b[1;32m----> <a href='vscode-notebook-cell:/d%3A/Coding_Dev/College/SEM_6/machine-learning-niit/Practical/Lab_10.ipynb#W5sZmlsZQ%3D%3D?line=1'>2</a>\u001b[0m model\u001b[39m.\u001b[39;49mfit(X_train, y_train)\n\u001b[0;32m      <a href='vscode-notebook-cell:/d%3A/Coding_Dev/College/SEM_6/machine-learning-niit/Practical/Lab_10.ipynb#W5sZmlsZQ%3D%3D?line=3'>4</a>\u001b[0m feature_names \u001b[39m=\u001b[39m X\u001b[39m.\u001b[39mcolumns\n\u001b[0;32m      <a href='vscode-notebook-cell:/d%3A/Coding_Dev/College/SEM_6/machine-learning-niit/Practical/Lab_10.ipynb#W5sZmlsZQ%3D%3D?line=4'>5</a>\u001b[0m coefficients \u001b[39m=\u001b[39m model\u001b[39m.\u001b[39mcoef_[\u001b[39m0\u001b[39m]\n",
      "File \u001b[1;32m~\\AppData\\Roaming\\Python\\Python39\\site-packages\\sklearn\\base.py:1151\u001b[0m, in \u001b[0;36m_fit_context.<locals>.decorator.<locals>.wrapper\u001b[1;34m(estimator, *args, **kwargs)\u001b[0m\n\u001b[0;32m   1144\u001b[0m     estimator\u001b[39m.\u001b[39m_validate_params()\n\u001b[0;32m   1146\u001b[0m \u001b[39mwith\u001b[39;00m config_context(\n\u001b[0;32m   1147\u001b[0m     skip_parameter_validation\u001b[39m=\u001b[39m(\n\u001b[0;32m   1148\u001b[0m         prefer_skip_nested_validation \u001b[39mor\u001b[39;00m global_skip_validation\n\u001b[0;32m   1149\u001b[0m     )\n\u001b[0;32m   1150\u001b[0m ):\n\u001b[1;32m-> 1151\u001b[0m     \u001b[39mreturn\u001b[39;00m fit_method(estimator, \u001b[39m*\u001b[39margs, \u001b[39m*\u001b[39m\u001b[39m*\u001b[39mkwargs)\n",
      "File \u001b[1;32m~\\AppData\\Roaming\\Python\\Python39\\site-packages\\sklearn\\linear_model\\_logistic.py:1252\u001b[0m, in \u001b[0;36mLogisticRegression.fit\u001b[1;34m(self, X, y, sample_weight)\u001b[0m\n\u001b[0;32m   1250\u001b[0m classes_ \u001b[39m=\u001b[39m \u001b[39mself\u001b[39m\u001b[39m.\u001b[39mclasses_\n\u001b[0;32m   1251\u001b[0m \u001b[39mif\u001b[39;00m n_classes \u001b[39m<\u001b[39m \u001b[39m2\u001b[39m:\n\u001b[1;32m-> 1252\u001b[0m     \u001b[39mraise\u001b[39;00m \u001b[39mValueError\u001b[39;00m(\n\u001b[0;32m   1253\u001b[0m         \u001b[39m\"\u001b[39m\u001b[39mThis solver needs samples of at least 2 classes\u001b[39m\u001b[39m\"\u001b[39m\n\u001b[0;32m   1254\u001b[0m         \u001b[39m\"\u001b[39m\u001b[39m in the data, but the data contains only one\u001b[39m\u001b[39m\"\u001b[39m\n\u001b[0;32m   1255\u001b[0m         \u001b[39m\"\u001b[39m\u001b[39m class: \u001b[39m\u001b[39m%r\u001b[39;00m\u001b[39m\"\u001b[39m\n\u001b[0;32m   1256\u001b[0m         \u001b[39m%\u001b[39m classes_[\u001b[39m0\u001b[39m]\n\u001b[0;32m   1257\u001b[0m     )\n\u001b[0;32m   1259\u001b[0m \u001b[39mif\u001b[39;00m \u001b[39mlen\u001b[39m(\u001b[39mself\u001b[39m\u001b[39m.\u001b[39mclasses_) \u001b[39m==\u001b[39m \u001b[39m2\u001b[39m:\n\u001b[0;32m   1260\u001b[0m     n_classes \u001b[39m=\u001b[39m \u001b[39m1\u001b[39m\n",
      "\u001b[1;31mValueError\u001b[0m: This solver needs samples of at least 2 classes in the data, but the data contains only one class: 0"
     ]
    }
   ],
   "source": [
    "model = LogisticRegression()\n",
    "model.fit(X_train, y_train)\n",
    "\n",
    "feature_names = X.columns\n",
    "coefficients = model.coef_[0]\n",
    "\n",
    "odds_ratios = np.exp(coefficients)\n",
    "odds_feature = pd.DataFrame({'Feature': feature_names, 'Odds Ratio': odds_ratios})\n",
    "mi_scores = mutual_info_classif(X_train, y_train)\n",
    "\n",
    "feature_mi = pd.DataFrame({'Feature': feature_names, 'Mutual Information': mi_scores})\n",
    "feature_mi = feature_mi.sort_values(by='Mutual Information', ascending=False)\n",
    "\n",
    "print(\"Feature Rankings based on Odds Ratios:\")\n",
    "display(odds_feature)\n",
    "\n",
    "print(\"Feature Rankings based on Mutual Information:\")\n",
    "display(feature_mi)"
   ]
  },
  {
   "cell_type": "code",
   "execution_count": 160,
   "metadata": {},
   "outputs": [
    {
     "ename": "AttributeError",
     "evalue": "'LogisticRegression' object has no attribute 'coef_'",
     "output_type": "error",
     "traceback": [
      "\u001b[1;31m---------------------------------------------------------------------------\u001b[0m",
      "\u001b[1;31mAttributeError\u001b[0m                            Traceback (most recent call last)",
      "\u001b[1;32md:\\Coding_Dev\\College\\SEM_6\\machine-learning-niit\\Practical\\Lab_10.ipynb Cell 7\u001b[0m line \u001b[0;36m7\n\u001b[0;32m      <a href='vscode-notebook-cell:/d%3A/Coding_Dev/College/SEM_6/machine-learning-niit/Practical/Lab_10.ipynb#W6sZmlsZQ%3D%3D?line=3'>4</a>\u001b[0m \u001b[39mimport\u001b[39;00m \u001b[39mnumpy\u001b[39;00m \u001b[39mas\u001b[39;00m \u001b[39mnp\u001b[39;00m\n\u001b[0;32m      <a href='vscode-notebook-cell:/d%3A/Coding_Dev/College/SEM_6/machine-learning-niit/Practical/Lab_10.ipynb#W6sZmlsZQ%3D%3D?line=5'>6</a>\u001b[0m \u001b[39m# Get the coefficients (feature importances) of the model\u001b[39;00m\n\u001b[1;32m----> <a href='vscode-notebook-cell:/d%3A/Coding_Dev/College/SEM_6/machine-learning-niit/Practical/Lab_10.ipynb#W6sZmlsZQ%3D%3D?line=6'>7</a>\u001b[0m coefficients \u001b[39m=\u001b[39m model\u001b[39m.\u001b[39;49mcoef_[\u001b[39m0\u001b[39m]\n\u001b[0;32m      <a href='vscode-notebook-cell:/d%3A/Coding_Dev/College/SEM_6/machine-learning-niit/Practical/Lab_10.ipynb#W6sZmlsZQ%3D%3D?line=8'>9</a>\u001b[0m \u001b[39m# Create a dictionary to store feature names and their odds ratios\u001b[39;00m\n\u001b[0;32m     <a href='vscode-notebook-cell:/d%3A/Coding_Dev/College/SEM_6/machine-learning-niit/Practical/Lab_10.ipynb#W6sZmlsZQ%3D%3D?line=9'>10</a>\u001b[0m odds_ratios \u001b[39m=\u001b[39m {}\n",
      "\u001b[1;31mAttributeError\u001b[0m: 'LogisticRegression' object has no attribute 'coef_'"
     ]
    }
   ],
   "source": [
    "# Assuming you have already trained your logistic regression model and have the coefficients\n",
    "# This code calculates the odds ratios for each feature\n",
    "\n",
    "import numpy as np\n",
    "\n",
    "# Get the coefficients (feature importances) of the model\n",
    "coefficients = model.coef_[0]\n",
    "\n",
    "# Create a dictionary to store feature names and their odds ratios\n",
    "odds_ratios = {}\n",
    "\n",
    "# Get the names of the features\n",
    "feature_names = X.columns\n",
    "\n",
    "# Calculate the odds ratio for each feature\n",
    "for i, feature_name in enumerate(feature_names):\n",
    "    odds_ratio = np.exp(coefficients[i])\n",
    "    odds_ratios[feature_name] = odds_ratio\n",
    "\n",
    "# Sort the features by odds ratio in descending order to rank them\n",
    "sorted_odds_ratios = {k: v for k, v in sorted(odds_ratios.items(), key=lambda item: item[1], reverse=True)}\n",
    "\n",
    "# Print the sorted odds ratios and feature rankings\n",
    "for feature, odds_ratio in sorted_odds_ratios.items():\n",
    "    print(f\"Feature: {feature}, Odds Ratio: {odds_ratio}\")\n"
   ]
  },
  {
   "cell_type": "code",
   "execution_count": null,
   "metadata": {},
   "outputs": [],
   "source": []
  },
  {
   "cell_type": "code",
   "execution_count": 167,
   "metadata": {},
   "outputs": [
    {
     "data": {
      "text/plain": [
       "Class                                         1.000000\n",
       "residenceStateRegion                          0.852311\n",
       "state                                         0.848445\n",
       "longitude_country                             0.831715\n",
       "country                                       0.724835\n",
       "countryOfCitizenship                          0.704770\n",
       "gross_tertiary_education_enrollment           0.654521\n",
       "cpi_change_country                            0.599199\n",
       "total_tax_rate_country                        0.406397\n",
       "tax_revenue_country_country                   0.373449\n",
       "title                                         0.360925\n",
       "organization                                  0.302195\n",
       "cpi_country                                   0.271512\n",
       "population_country                            0.223834\n",
       "birthDay                                      0.183420\n",
       "rank                                          0.159419\n",
       "gross_primary_education_enrollment_country    0.152945\n",
       "birthYear                                     0.124550\n",
       "age                                           0.121271\n",
       "birthDate                                     0.118433\n",
       "personName                                    0.107964\n",
       "firstName                                     0.102155\n",
       "category                                      0.092819\n",
       "industries                                    0.092819\n",
       "latitude_country                              0.091844\n",
       "finalWorth                                    0.086684\n",
       "birthMonth                                    0.081396\n",
       "life_expectancy_country                       0.071706\n",
       "status                                        0.065380\n",
       "lastName                                      0.047679\n",
       "source                                        0.030746\n",
       "date                                          0.030157\n",
       "gender                                        0.027786\n",
       "selfMade                                      0.020206\n",
       "gdp_country                                   0.008915\n",
       "dtype: float64"
      ]
     },
     "execution_count": 167,
     "metadata": {},
     "output_type": "execute_result"
    }
   ],
   "source": [
    "# Sort features by absolute correlation value\n",
    "# Calculate Pearson correlation coefficients\n",
    "correlations = df.corrwith(df['Class'])\n",
    "\n",
    "correlations = correlations.abs().sort_values(ascending=False)\n",
    "correlations"
   ]
  },
  {
   "cell_type": "code",
   "execution_count": 168,
   "metadata": {},
   "outputs": [
    {
     "data": {
      "text/plain": [
       "Index(['Class', 'residenceStateRegion', 'state', 'longitude_country',\n",
       "       'country', 'countryOfCitizenship',\n",
       "       'gross_tertiary_education_enrollment', 'cpi_change_country',\n",
       "       'total_tax_rate_country', 'tax_revenue_country_country', 'title',\n",
       "       'organization', 'cpi_country', 'population_country'],\n",
       "      dtype='object')"
      ]
     },
     "execution_count": 168,
     "metadata": {},
     "output_type": "execute_result"
    }
   ],
   "source": [
    "selected_features = correlations[correlations > 0.2].index\n",
    "selected_features"
   ]
  },
  {
   "cell_type": "code",
   "execution_count": 170,
   "metadata": {},
   "outputs": [
    {
     "name": "stdout",
     "output_type": "stream",
     "text": [
      "Feature Ranking based on Odds Ratios:\n",
      "\n",
      "Feature Ranking based on Mutual Information:\n",
      "                                Feature  Mutual Information\n",
      "0                                 Class            0.622909\n",
      "3                     longitude_country            0.622909\n",
      "7                    cpi_change_country            0.622909\n",
      "9           tax_revenue_country_country            0.622909\n",
      "13                   population_country            0.622909\n",
      "4                               country            0.620737\n",
      "2                                 state            0.619787\n",
      "12                          cpi_country            0.613388\n",
      "6   gross_tertiary_education_enrollment            0.605059\n",
      "1                  residenceStateRegion            0.604831\n",
      "8                total_tax_rate_country            0.602271\n",
      "5                  countryOfCitizenship            0.511181\n",
      "10                                title            0.076725\n",
      "11                         organization            0.053182\n"
     ]
    }
   ],
   "source": [
    "X = df[selected_features]\n",
    "y = df['Class']\n",
    "X_train, X_test, y_train, y_test = train_test_split(X, y, test_size=0.2, random_state=42)\n",
    "\n",
    "model = LogisticRegression()\n",
    "model.fit(X_train, y_train)\n",
    "\n",
    "coefficients = model.coef_[0]\n",
    "odds_ratios = np.exp(coefficients)\n",
    "\n",
    "feature_odds_df = pd.DataFrame({'Feature': selected_features, 'Odds Ratio': odds_ratios})\n",
    "\n",
    "feature_odds_df = feature_odds_df.sort_values(by='Odds Ratio', ascending=False)\n",
    "\n",
    "mutual_info_scores = mutual_info_classif(X, y)\n",
    "\n",
    "feature_mutual_info_df = pd.DataFrame({'Feature': selected_features, 'Mutual Information': mutual_info_scores})\n",
    "\n",
    "feature_mutual_info_df = feature_mutual_info_df.sort_values(by='Mutual Information', ascending=False)\n",
    "\n",
    "print(\"Feature Ranking based on Odds Ratios:\")\n",
    "# print(feature_odds_df)\n",
    "\n",
    "print(\"\\nFeature Ranking based on Mutual Information:\")\n",
    "print(feature_mutual_info_df)"
   ]
  },
  {
   "cell_type": "code",
   "execution_count": null,
   "metadata": {},
   "outputs": [],
   "source": []
  },
  {
   "cell_type": "code",
   "execution_count": null,
   "metadata": {},
   "outputs": [],
   "source": []
  }
 ],
 "metadata": {
  "kernelspec": {
   "display_name": "Conda",
   "language": "python",
   "name": "python3"
  },
  "language_info": {
   "codemirror_mode": {
    "name": "ipython",
    "version": 3
   },
   "file_extension": ".py",
   "mimetype": "text/x-python",
   "name": "python",
   "nbconvert_exporter": "python",
   "pygments_lexer": "ipython3",
   "version": "3.9.15"
  }
 },
 "nbformat": 4,
 "nbformat_minor": 2
}
